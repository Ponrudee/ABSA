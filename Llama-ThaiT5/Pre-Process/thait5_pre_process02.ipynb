{
  "nbformat": 4,
  "nbformat_minor": 0,
  "metadata": {
    "colab": {
      "provenance": []
    },
    "kernelspec": {
      "name": "python3",
      "display_name": "Python 3"
    },
    "language_info": {
      "name": "python"
    }
  },
  "cells": [
    {
      "cell_type": "code",
      "source": [
        "from google.colab import drive\n",
        "drive.mount('/content/drive')"
      ],
      "metadata": {
        "colab": {
          "base_uri": "https://localhost:8080/"
        },
        "id": "OPgtfo0TdViu",
        "outputId": "09527774-6e3c-4df5-d983-adffaf4120e6",
        "collapsed": true
      },
      "execution_count": null,
      "outputs": [
        {
          "output_type": "stream",
          "name": "stdout",
          "text": [
            "Mounted at /content/drive\n"
          ]
        }
      ]
    },
    {
      "cell_type": "code",
      "source": [
        "import pandas as pd\n",
        "\n",
        "# โหลดไฟล์ที่ merge แล้ว\n",
        "merged_df = pd.read_csv('/content/drive/MyDrive/KMITL/Project/Data/dataset_for_finetune_merged.csv')\n",
        "\n",
        "# ดูจำนวนแถว\n",
        "print(\"✅ จำนวนข่าวที่ไม่ซ้ำ:\", len(merged_df))\n",
        "\n",
        "# ดูตัวอย่าง 1 ข่าว\n",
        "sample = merged_df.iloc[0]\n",
        "print(\"📰 ข่าว:\", sample[\"text\"])\n",
        "print(\"📌 Label ทั้งหมด:\\n\", sample[\"label\"])"
      ],
      "metadata": {
        "colab": {
          "base_uri": "https://localhost:8080/"
        },
        "id": "txYxlO91HMTH",
        "outputId": "d8907d54-df9d-4e0d-b06c-dfddf55a19c2",
        "collapsed": true
      },
      "execution_count": null,
      "outputs": [
        {
          "output_type": "stream",
          "name": "stdout",
          "text": [
            "✅ จำนวนข่าวที่ไม่ซ้ำ: 4749\n",
            "📰 ข่าว: \"AAV\" เข้าสู่ช่วง Turnaround โบรกฯ ชี้เด่นสุด ฟรีวีซ่าไทย-จีน\n",
            "📌 Label ทั้งหมด:\n",
            " <SYMBOL> AAV <ASPECT> เข้าสู่ช่วง <OPINION> Turnaround <POS>\n",
            "<SYMBOL> AAV <ASPECT> โบรกฯ ชี้ <OPINION> เด่น <POS>\n",
            "<SYMBOL> AAV <ASPECT> เข้าสู่ช่วง <OPINION> Turnaround <POS>\n",
            "<SYMBOL> AAV <ASPECT> โบรกฯ ชี้ <OPINION> เด่นสุด <POS>\n"
          ]
        }
      ]
    },
    {
      "cell_type": "code",
      "source": [
        "# ดูว่า label ในแถวไหนมีหลายบรรทัด\n",
        "multi_output = merged_df[merged_df['label'].str.contains('\\n')]\n",
        "print(\"🧠 ข่าวที่มีหลาย label:\", len(multi_output))\n",
        "print(multi_output.head(3))"
      ],
      "metadata": {
        "colab": {
          "base_uri": "https://localhost:8080/"
        },
        "id": "tebS8nAsHoZT",
        "outputId": "e33afc80-cc48-42b2-8f75-403293012c73"
      },
      "execution_count": null,
      "outputs": [
        {
          "output_type": "stream",
          "name": "stdout",
          "text": [
            "🧠 ข่าวที่มีหลาย label: 1929\n",
            "                                                text  \\\n",
            "0  \"AAV\" เข้าสู่ช่วง Turnaround โบรกฯ ชี้เด่นสุด ...   \n",
            "1  \"ALT -GUNKUL-PRIME\" กอดคอราคาพุ่ง อานิสงส์งานต...   \n",
            "2  \"APO\" พร้อมลงสนามเทรด mai พรุ่งนี้ จุดเด่นธุรก...   \n",
            "\n",
            "                                               label  \n",
            "0  <SYMBOL> AAV <ASPECT> เข้าสู่ช่วง <OPINION> Tu...  \n",
            "1  <SYMBOL> ALT <ASPECT> ราคา <OPINION> พุ่ง <POS...  \n",
            "2  <SYMBOL> APO <ASPECT> ธุรกิจ <OPINION> โอกาสโต...  \n"
          ]
        }
      ]
    },
    {
      "cell_type": "code",
      "source": [
        "# เช็คแถวที่ label หายหรือว่าง\n",
        "missing = merged_df[merged_df['label'].isnull() | (merged_df['label'].str.strip() == '')]\n",
        "print(\"❗ แถวที่ label ว่างหรือหาย:\", len(missing))"
      ],
      "metadata": {
        "id": "1G28b7sXHsCG",
        "outputId": "d8aa6594-41d8-433b-eb74-e43aa6913bbb",
        "colab": {
          "base_uri": "https://localhost:8080/"
        }
      },
      "execution_count": null,
      "outputs": [
        {
          "output_type": "stream",
          "name": "stdout",
          "text": [
            "❗ แถวที่ label ว่างหรือหาย: 0\n"
          ]
        }
      ]
    },
    {
      "cell_type": "code",
      "source": [
        "import pandas as pd\n",
        "\n",
        "\n",
        "df = pd.read_csv('/content/drive/MyDrive/KMITL/Project/Data/dataset_for_finetune.csv')\n",
        "\n",
        "\n",
        "merged_df = df.groupby('text')['label'].apply(lambda labels: '\\n'.join(labels)).reset_index()\n",
        "\n",
        "\n",
        "merged_df.to_csv('/content/drive/MyDrive/KMITL/Project/Data/dataset_for_finetune_merged.csv', index=False)\n",
        "\n",
        "print(\"✅ บันทึกไฟล์รวม label เสร็จแล้วที่: dataset_for_finetune_merged.csv\")"
      ],
      "metadata": {
        "colab": {
          "base_uri": "https://localhost:8080/"
        },
        "id": "lsMD7G9vBn46",
        "outputId": "43e257c1-abfe-46f9-cf24-58cfff3eed63"
      },
      "execution_count": null,
      "outputs": [
        {
          "output_type": "stream",
          "name": "stdout",
          "text": [
            "✅ บันทึกไฟล์รวม label เสร็จแล้วที่: dataset_for_finetune_merged.csv\n"
          ]
        }
      ]
    },
    {
      "cell_type": "code",
      "source": [
        "print(df.head(10))\n",
        "\n",
        "print(\"🔎 Missing Values:\\n\", df.isnull().sum())\n",
        "\n",
        "print(\"🔎 Duplicate Entries:\", df.duplicated().sum())\n",
        "\n",
        "print(\"🔎 ตัวอย่าง Label:\\n\", df[\"label\"].head(10))"
      ],
      "metadata": {
        "colab": {
          "base_uri": "https://localhost:8080/"
        },
        "collapsed": true,
        "id": "Yc_d26WiLtbi",
        "outputId": "a40ae6e7-75fb-4bd9-d887-3e3ff16827f2"
      },
      "execution_count": null,
      "outputs": [
        {
          "output_type": "stream",
          "name": "stdout",
          "text": [
            "                                                text  \\\n",
            "0  \"AAV\" เข้าสู่ช่วง Turnaround โบรกฯ ชี้เด่นสุด ...   \n",
            "1  \"AAV\" เข้าสู่ช่วง Turnaround โบรกฯ ชี้เด่นสุด ...   \n",
            "2  \"AAV\" เข้าสู่ช่วง Turnaround โบรกฯ ชี้เด่นสุด ...   \n",
            "3  \"AAV\" เข้าสู่ช่วง Turnaround โบรกฯ ชี้เด่นสุด ...   \n",
            "4  \"ALT -GUNKUL-PRIME\" กอดคอราคาพุ่ง อานิสงส์งานต...   \n",
            "5  \"ALT -GUNKUL-PRIME\" กอดคอราคาพุ่ง อานิสงส์งานต...   \n",
            "6  \"ALT -GUNKUL-PRIME\" กอดคอราคาพุ่ง อานิสงส์งานต...   \n",
            "7  \"ALT -GUNKUL-PRIME\" กอดคอราคาพุ่ง อานิสงส์งานต...   \n",
            "8  \"ALT -GUNKUL-PRIME\" กอดคอราคาพุ่ง อานิสงส์งานต...   \n",
            "9  \"ALT -GUNKUL-PRIME\" กอดคอราคาพุ่ง อานิสงส์งานต...   \n",
            "\n",
            "                                               label  \n",
            "0  <SYMBOL> AAV <ASPECT> เข้าสู่ช่วง <OPINION> Tu...  \n",
            "1  <SYMBOL> AAV <ASPECT> โบรกฯ ชี้ <OPINION> เด่น...  \n",
            "2  <SYMBOL> AAV <ASPECT> เข้าสู่ช่วง <OPINION> Tu...  \n",
            "3  <SYMBOL> AAV <ASPECT> โบรกฯ ชี้ <OPINION> เด่น...  \n",
            "4    <SYMBOL> ALT <ASPECT> ราคา <OPINION> พุ่ง <POS>  \n",
            "5  <SYMBOL> GUNKUL <ASPECT> ราคา <OPINION> พุ่ง <...  \n",
            "6  <SYMBOL> PRIME <ASPECT> ราคา <OPINION> พุ่ง <POS>  \n",
            "7     <SYMBOL> ALT <ASPECT> งาน <OPINION> อื้อ <POS>  \n",
            "8  <SYMBOL> GUNKUL <ASPECT> งาน <OPINION> อื้อ <POS>  \n",
            "9   <SYMBOL> PRIME <ASPECT> งาน <OPINION> อื้อ <POS>  \n",
            "🔎 Missing Values:\n",
            " text     0\n",
            "label    0\n",
            "dtype: int64\n",
            "🔎 Duplicate Entries: 151\n",
            "🔎 ตัวอย่าง Label:\n",
            " 0    <SYMBOL> AAV <ASPECT> เข้าสู่ช่วง <OPINION> Tu...\n",
            "1    <SYMBOL> AAV <ASPECT> โบรกฯ ชี้ <OPINION> เด่น...\n",
            "2    <SYMBOL> AAV <ASPECT> เข้าสู่ช่วง <OPINION> Tu...\n",
            "3    <SYMBOL> AAV <ASPECT> โบรกฯ ชี้ <OPINION> เด่น...\n",
            "4      <SYMBOL> ALT <ASPECT> ราคา <OPINION> พุ่ง <POS>\n",
            "5    <SYMBOL> GUNKUL <ASPECT> ราคา <OPINION> พุ่ง <...\n",
            "6    <SYMBOL> PRIME <ASPECT> ราคา <OPINION> พุ่ง <POS>\n",
            "7       <SYMBOL> ALT <ASPECT> งาน <OPINION> อื้อ <POS>\n",
            "8    <SYMBOL> GUNKUL <ASPECT> งาน <OPINION> อื้อ <POS>\n",
            "9     <SYMBOL> PRIME <ASPECT> งาน <OPINION> อื้อ <POS>\n",
            "Name: label, dtype: object\n"
          ]
        }
      ]
    },
    {
      "cell_type": "code",
      "source": [
        "print(\"\\n✅ ตรวจสอบ Dataset เสร็จสิ้น! รายงานผล:\")\n",
        "print(f\"- แถวทั้งหมดใน Dataset: {len(df)}\")\n",
        "print(f\"- Missing Values: {df.isnull().sum().sum()}\")\n",
        "print(f\"- แถวที่ Text ซ้ำกันแต่ Label ต่างกัน: {len(duplicates)}\")\n",
        "print(f\"- แถวที่ Label มีคำที่ไม่มีใน Text: {len(invalid_labels)}\")\n",
        "print(f\"- แถวที่ Text ยาวเกิน 512 Tokens: {len(long_texts)}\")\n",
        "print(f\"- แถวที่ Label ยาวเกิน 512 Tokens: {len(long_labels)}\")\n",
        "print(f\"- การกระจายตัวของ Sentiment: {sentiment_counts}\")"
      ],
      "metadata": {
        "colab": {
          "base_uri": "https://localhost:8080/"
        },
        "id": "EN7MOyoLrth0",
        "outputId": "2c62327a-159f-408b-e17a-584cfce47615"
      },
      "execution_count": null,
      "outputs": [
        {
          "output_type": "stream",
          "name": "stdout",
          "text": [
            "\n",
            "✅ ตรวจสอบ Dataset เสร็จสิ้น! รายงานผล:\n",
            "- แถวทั้งหมดใน Dataset: 4749\n",
            "- Missing Values: 0\n",
            "- แถวที่ Text ซ้ำกันแต่ Label ต่างกัน: 0\n",
            "- แถวที่ Label มีคำที่ไม่มีใน Text: 0\n",
            "- แถวที่ Text ยาวเกิน 512 Tokens: 0\n",
            "- แถวที่ Label ยาวเกิน 512 Tokens: 0\n",
            "- การกระจายตัวของ Sentiment: {'POS': np.int64(3584), 'NEG': np.int64(870), 'NEU': np.int64(450)}\n"
          ]
        }
      ]
    }
  ]
}